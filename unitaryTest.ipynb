{
 "cells": [
  {
   "cell_type": "code",
   "execution_count": 9,
   "metadata": {},
   "outputs": [],
   "source": [
    "import json\n",
    "import urllib.parse\n",
    "import requests\n",
    "from decks.io import load_deck_from_txt, fetch_card_data, create_card_from_data"
   ]
  },
  {
   "cell_type": "code",
   "execution_count": 10,
   "metadata": {},
   "outputs": [],
   "source": [
    "def get_card_data_from_scryfall(card_name):\n",
    "    \"\"\"Pobiera wybrane dane karty z API Scryfall po jej nazwie.\"\"\"\n",
    "\n",
    "    encoded_card_name = urllib.parse.quote_plus(card_name)\n",
    "    url = f\"https://api.scryfall.com/cards/named?fuzzy={encoded_card_name}\"\n",
    "\n",
    "    try:\n",
    "        response = requests.get(url)\n",
    "        response.raise_for_status()\n",
    "        card_data = response.json()\n",
    "\n",
    "        # Tworzymy nowy słownik tylko z potrzebnymi polami\n",
    "        extracted_data = {\n",
    "            \"name\": card_data.get(\"name\"),\n",
    "            \"mana_cost\": card_data.get(\"mana_cost\"),\n",
    "            \"cmc\": card_data.get(\"cmc\"),\n",
    "            \"type_line\": card_data.get(\"type_line\"),\n",
    "            \"oracle_text\": card_data.get(\"oracle_text\"),\n",
    "            \"colors\": card_data.get(\"colors\"),\n",
    "            \"color_identity\": card_data.get(\"color_identity\"),\n",
    "            \"keywords\": card_data.get(\"keywords\"),\n",
    "            \"legalities\": card_data.get(\"legalities\", {}).get(\"commander\"), # Bezpieczny dostęp do legalities\n",
    "            \"rarity\": card_data.get(\"rarity\"),\n",
    "            \"image_uris\": card_data.get(\"image_uris\", {}).get(\"normal\") # Bezpieczny dostęp do image_uris\n",
    "        }\n",
    "\n",
    "        # Warunkowe dodawanie power i toughness\n",
    "        if \"Creature\" in card_data.get(\"type_line\", \"\"): # Sprawdzamy, czy type_line istnieje\n",
    "            extracted_data[\"power\"] = card_data.get(\"power\")\n",
    "            extracted_data[\"toughness\"] = card_data.get(\"toughness\")\n",
    "\n",
    "        return extracted_data\n",
    "    \n",
    "    except requests.exceptions.RequestException as e:\n",
    "        print(f\"Błąd podczas pobierania danych z API Scryfall: {e}\")\n",
    "        if response is not None and response.status_code == 404: # Dodana obsługa braku response\n",
    "            print(\"Prawdopodobnie nie znaleziono karty o podanej nazwie.\")\n",
    "        return None\n",
    "    except json.JSONDecodeError as e:\n",
    "        print(f\"Błąd dekodowania JSON: {e}\")\n",
    "        return None\n",
    "    except AttributeError as e: #Dodana obsługa braku danych w jsonie\n",
    "        print(f\"Brak danych w zwróconym JSON: {e}\")\n",
    "        return None"
   ]
  },
  {
   "cell_type": "code",
   "execution_count": 11,
   "metadata": {},
   "outputs": [],
   "source": [
    "testCardName=\"Clue\"\n",
    "#testCardName=\"Island\"\n",
    "#testCardName=\"Sol ring\""
   ]
  },
  {
   "cell_type": "code",
   "execution_count": 12,
   "metadata": {},
   "outputs": [
    {
     "name": "stdout",
     "output_type": "stream",
     "text": [
      "{'name': 'Clue', 'mana_cost': '', 'cmc': 0.0, 'type_line': 'Token Artifact — Clue', 'oracle_text': '{2}, Sacrifice this artifact: Draw a card.', 'colors': [], 'color_identity': [], 'keywords': [], 'legalities': 'not_legal', 'rarity': 'common', 'image_uris': 'https://cards.scryfall.io/normal/front/9/9/99976010-e203-43a4-af37-d872365e8ded.jpg?1733251192'}\n",
      "\n",
      "Token Artifact — Clue\n",
      "{2}, Sacrifice this artifact: Draw a card.\n"
     ]
    }
   ],
   "source": [
    "var=get_card_data_from_scryfall(testCardName)\n",
    "print(var)\n",
    "print(var[\"mana_cost\"])\n",
    "print(var[\"type_line\"])\n",
    "print(var[\"oracle_text\"])"
   ]
  },
  {
   "cell_type": "code",
   "execution_count": 13,
   "metadata": {},
   "outputs": [],
   "source": [
    "card=create_card_from_data(fetch_card_data(testCardName))"
   ]
  },
  {
   "cell_type": "code",
   "execution_count": 14,
   "metadata": {},
   "outputs": [
    {
     "name": "stdout",
     "output_type": "stream",
     "text": [
      "False\n",
      "False\n",
      "{'isSingleOption': True, 'manaType': []}\n",
      "False\n",
      "\n"
     ]
    }
   ],
   "source": [
    "print(card.getManaGain())\n",
    "print(card.getEnterTapped())\n",
    "print(card.getManaGained())\n",
    "print(card.getHasSickness())\n",
    "print(card.getCost())\n",
    "\n",
    "\n",
    "\n",
    "\n"
   ]
  },
  {
   "cell_type": "code",
   "execution_count": 15,
   "metadata": {},
   "outputs": [],
   "source": [
    "from player.player import Player\n",
    "p=Player()"
   ]
  },
  {
   "cell_type": "code",
   "execution_count": 16,
   "metadata": {},
   "outputs": [
    {
     "name": "stdout",
     "output_type": "stream",
     "text": [
      "40\n",
      "None\n",
      "37\n",
      "None\n",
      "20\n",
      "0\n",
      "True\n",
      "None\n",
      "False\n"
     ]
    }
   ],
   "source": [
    "print(p.getLiveTotal())\n",
    "\n",
    "print(p.changeLiveTotal(-3))\n",
    "print(p.getLiveTotal())\n",
    "print(p.setLiveTotal(20))\n",
    "print(p.getLiveTotal())\n",
    "print(p.getPoisonCountersState())\n",
    "\n",
    "print(p.isPlayerAlive())\n",
    "print(p.setLiveTotal(0))\n",
    "\n",
    "print(p.isPlayerAlive())"
   ]
  }
 ],
 "metadata": {
  "kernelspec": {
   "display_name": "Python 3",
   "language": "python",
   "name": "python3"
  },
  "language_info": {
   "codemirror_mode": {
    "name": "ipython",
    "version": 3
   },
   "file_extension": ".py",
   "mimetype": "text/x-python",
   "name": "python",
   "nbconvert_exporter": "python",
   "pygments_lexer": "ipython3",
   "version": "3.12.6"
  }
 },
 "nbformat": 4,
 "nbformat_minor": 2
}
